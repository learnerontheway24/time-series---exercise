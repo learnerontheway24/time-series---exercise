{
 "cells": [
  {
   "cell_type": "code",
   "execution_count": 1,
   "metadata": {},
   "outputs": [],
   "source": [
    "%matplotlib inline\n",
    "import matplotlib.pyplot as plt\n",
    "import pandas as pd\n",
    "import statsmodels as sm\n",
    "import pandas_datareader as pdr\n",
    "import seaborn as sns\n",
    "import statsmodels.tsa.stattools as st\n",
    "from statsmodels.tsa.ar_model import AR\n",
    "from statsmodels.tsa.api import acf, pacf, graphics\n",
    "sns.mpl.rc('figure',figsize=(16, 6))"
   ]
  },
  {
   "cell_type": "code",
   "execution_count": 2,
   "metadata": {},
   "outputs": [],
   "source": [
    "simreturn = pd.read_table(r'C:\\Users\\zoe_x\\Documents\\python\\Tsay3 data\\m-deciles08.txt', sep='\\s+')  #sep='\\s+'表示对数据进行规整"
   ]
  },
  {
   "cell_type": "code",
   "execution_count": 3,
   "metadata": {},
   "outputs": [
    {
     "data": {
      "text/html": [
       "<div>\n",
       "<style scoped>\n",
       "    .dataframe tbody tr th:only-of-type {\n",
       "        vertical-align: middle;\n",
       "    }\n",
       "\n",
       "    .dataframe tbody tr th {\n",
       "        vertical-align: top;\n",
       "    }\n",
       "\n",
       "    .dataframe thead th {\n",
       "        text-align: right;\n",
       "    }\n",
       "</style>\n",
       "<table border=\"1\" class=\"dataframe\">\n",
       "  <thead>\n",
       "    <tr style=\"text-align: right;\">\n",
       "      <th></th>\n",
       "      <th>date</th>\n",
       "      <th>CAP1RET</th>\n",
       "      <th>CAP2RET</th>\n",
       "      <th>CAP9RET</th>\n",
       "      <th>CAP10RET</th>\n",
       "    </tr>\n",
       "  </thead>\n",
       "  <tbody>\n",
       "    <tr>\n",
       "      <th>0</th>\n",
       "      <td>19700130</td>\n",
       "      <td>0.054383</td>\n",
       "      <td>-0.004338</td>\n",
       "      <td>-0.073082</td>\n",
       "      <td>-0.076874</td>\n",
       "    </tr>\n",
       "    <tr>\n",
       "      <th>1</th>\n",
       "      <td>19700227</td>\n",
       "      <td>0.020264</td>\n",
       "      <td>0.020155</td>\n",
       "      <td>0.064185</td>\n",
       "      <td>0.059512</td>\n",
       "    </tr>\n",
       "    <tr>\n",
       "      <th>2</th>\n",
       "      <td>19700331</td>\n",
       "      <td>-0.031790</td>\n",
       "      <td>-0.028090</td>\n",
       "      <td>-0.004034</td>\n",
       "      <td>-0.001327</td>\n",
       "    </tr>\n",
       "    <tr>\n",
       "      <th>3</th>\n",
       "      <td>19700430</td>\n",
       "      <td>-0.184775</td>\n",
       "      <td>-0.193004</td>\n",
       "      <td>-0.115825</td>\n",
       "      <td>-0.091112</td>\n",
       "    </tr>\n",
       "    <tr>\n",
       "      <th>4</th>\n",
       "      <td>19700529</td>\n",
       "      <td>-0.088189</td>\n",
       "      <td>-0.085342</td>\n",
       "      <td>-0.085565</td>\n",
       "      <td>-0.053193</td>\n",
       "    </tr>\n",
       "  </tbody>\n",
       "</table>\n",
       "</div>"
      ],
      "text/plain": [
       "       date   CAP1RET   CAP2RET   CAP9RET  CAP10RET\n",
       "0  19700130  0.054383 -0.004338 -0.073082 -0.076874\n",
       "1  19700227  0.020264  0.020155  0.064185  0.059512\n",
       "2  19700331 -0.031790 -0.028090 -0.004034 -0.001327\n",
       "3  19700430 -0.184775 -0.193004 -0.115825 -0.091112\n",
       "4  19700529 -0.088189 -0.085342 -0.085565 -0.053193"
      ]
     },
     "execution_count": 3,
     "metadata": {},
     "output_type": "execute_result"
    }
   ],
   "source": [
    "simreturn.head()"
   ]
  },
  {
   "cell_type": "code",
   "execution_count": 4,
   "metadata": {},
   "outputs": [],
   "source": [
    "date = pd.to_datetime(simreturn['date'], format='%Y%m%d')  #转换成日期格式"
   ]
  },
  {
   "cell_type": "code",
   "execution_count": 5,
   "metadata": {},
   "outputs": [],
   "source": [
    "simreturn.index=date"
   ]
  },
  {
   "cell_type": "code",
   "execution_count": 6,
   "metadata": {},
   "outputs": [],
   "source": [
    "simreturn = simreturn.drop(['date'],axis=1)"
   ]
  },
  {
   "cell_type": "code",
   "execution_count": 7,
   "metadata": {},
   "outputs": [
    {
     "data": {
      "text/html": [
       "<div>\n",
       "<style scoped>\n",
       "    .dataframe tbody tr th:only-of-type {\n",
       "        vertical-align: middle;\n",
       "    }\n",
       "\n",
       "    .dataframe tbody tr th {\n",
       "        vertical-align: top;\n",
       "    }\n",
       "\n",
       "    .dataframe thead th {\n",
       "        text-align: right;\n",
       "    }\n",
       "</style>\n",
       "<table border=\"1\" class=\"dataframe\">\n",
       "  <thead>\n",
       "    <tr style=\"text-align: right;\">\n",
       "      <th></th>\n",
       "      <th>CAP1RET</th>\n",
       "      <th>CAP2RET</th>\n",
       "      <th>CAP9RET</th>\n",
       "      <th>CAP10RET</th>\n",
       "    </tr>\n",
       "    <tr>\n",
       "      <th>date</th>\n",
       "      <th></th>\n",
       "      <th></th>\n",
       "      <th></th>\n",
       "      <th></th>\n",
       "    </tr>\n",
       "  </thead>\n",
       "  <tbody>\n",
       "    <tr>\n",
       "      <th>1970-01-30</th>\n",
       "      <td>0.054383</td>\n",
       "      <td>-0.004338</td>\n",
       "      <td>-0.073082</td>\n",
       "      <td>-0.076874</td>\n",
       "    </tr>\n",
       "    <tr>\n",
       "      <th>1970-02-27</th>\n",
       "      <td>0.020264</td>\n",
       "      <td>0.020155</td>\n",
       "      <td>0.064185</td>\n",
       "      <td>0.059512</td>\n",
       "    </tr>\n",
       "    <tr>\n",
       "      <th>1970-03-31</th>\n",
       "      <td>-0.031790</td>\n",
       "      <td>-0.028090</td>\n",
       "      <td>-0.004034</td>\n",
       "      <td>-0.001327</td>\n",
       "    </tr>\n",
       "    <tr>\n",
       "      <th>1970-04-30</th>\n",
       "      <td>-0.184775</td>\n",
       "      <td>-0.193004</td>\n",
       "      <td>-0.115825</td>\n",
       "      <td>-0.091112</td>\n",
       "    </tr>\n",
       "    <tr>\n",
       "      <th>1970-05-29</th>\n",
       "      <td>-0.088189</td>\n",
       "      <td>-0.085342</td>\n",
       "      <td>-0.085565</td>\n",
       "      <td>-0.053193</td>\n",
       "    </tr>\n",
       "  </tbody>\n",
       "</table>\n",
       "</div>"
      ],
      "text/plain": [
       "             CAP1RET   CAP2RET   CAP9RET  CAP10RET\n",
       "date                                              \n",
       "1970-01-30  0.054383 -0.004338 -0.073082 -0.076874\n",
       "1970-02-27  0.020264  0.020155  0.064185  0.059512\n",
       "1970-03-31 -0.031790 -0.028090 -0.004034 -0.001327\n",
       "1970-04-30 -0.184775 -0.193004 -0.115825 -0.091112\n",
       "1970-05-29 -0.088189 -0.085342 -0.085565 -0.053193"
      ]
     },
     "execution_count": 7,
     "metadata": {},
     "output_type": "execute_result"
    }
   ],
   "source": [
    "simreturn.head()"
   ]
  },
  {
   "cell_type": "code",
   "execution_count": 8,
   "metadata": {},
   "outputs": [],
   "source": [
    "decile_2 = simreturn['CAP2RET']"
   ]
  },
  {
   "cell_type": "code",
   "execution_count": 9,
   "metadata": {},
   "outputs": [
    {
     "data": {
      "text/plain": [
       "date\n",
       "1970-01-30   -0.004338\n",
       "1970-02-27    0.020155\n",
       "1970-03-31   -0.028090\n",
       "1970-04-30   -0.193004\n",
       "1970-05-29   -0.085342\n",
       "Name: CAP2RET, dtype: float64"
      ]
     },
     "execution_count": 9,
     "metadata": {},
     "output_type": "execute_result"
    }
   ],
   "source": [
    "decile_2.head()"
   ]
  },
  {
   "cell_type": "code",
   "execution_count": 10,
   "metadata": {},
   "outputs": [],
   "source": [
    "decile2=pd.DataFrame(decile_2)"
   ]
  },
  {
   "cell_type": "code",
   "execution_count": 11,
   "metadata": {},
   "outputs": [],
   "source": [
    "decile2=decile2.asfreq('BM',fill_value='bfill')"
   ]
  },
  {
   "cell_type": "code",
   "execution_count": 12,
   "metadata": {},
   "outputs": [
    {
     "data": {
      "text/html": [
       "<div>\n",
       "<style scoped>\n",
       "    .dataframe tbody tr th:only-of-type {\n",
       "        vertical-align: middle;\n",
       "    }\n",
       "\n",
       "    .dataframe tbody tr th {\n",
       "        vertical-align: top;\n",
       "    }\n",
       "\n",
       "    .dataframe thead th {\n",
       "        text-align: right;\n",
       "    }\n",
       "</style>\n",
       "<table border=\"1\" class=\"dataframe\">\n",
       "  <thead>\n",
       "    <tr style=\"text-align: right;\">\n",
       "      <th></th>\n",
       "      <th>CAP2RET</th>\n",
       "    </tr>\n",
       "    <tr>\n",
       "      <th>date</th>\n",
       "      <th></th>\n",
       "    </tr>\n",
       "  </thead>\n",
       "  <tbody>\n",
       "    <tr>\n",
       "      <th>1970-01-30</th>\n",
       "      <td>-0.004338</td>\n",
       "    </tr>\n",
       "    <tr>\n",
       "      <th>1970-02-27</th>\n",
       "      <td>0.020155</td>\n",
       "    </tr>\n",
       "    <tr>\n",
       "      <th>1970-03-31</th>\n",
       "      <td>-0.02809</td>\n",
       "    </tr>\n",
       "    <tr>\n",
       "      <th>1970-04-30</th>\n",
       "      <td>-0.193004</td>\n",
       "    </tr>\n",
       "    <tr>\n",
       "      <th>1970-05-29</th>\n",
       "      <td>-0.085342</td>\n",
       "    </tr>\n",
       "  </tbody>\n",
       "</table>\n",
       "</div>"
      ],
      "text/plain": [
       "             CAP2RET\n",
       "date                \n",
       "1970-01-30 -0.004338\n",
       "1970-02-27  0.020155\n",
       "1970-03-31  -0.02809\n",
       "1970-04-30 -0.193004\n",
       "1970-05-29 -0.085342"
      ]
     },
     "execution_count": 12,
     "metadata": {},
     "output_type": "execute_result"
    }
   ],
   "source": [
    "decile2.head()"
   ]
  },
  {
   "cell_type": "code",
   "execution_count": 13,
   "metadata": {},
   "outputs": [],
   "source": [
    "decile_10 = simreturn['CAP10RET']"
   ]
  },
  {
   "cell_type": "code",
   "execution_count": 14,
   "metadata": {},
   "outputs": [],
   "source": [
    "decile10=pd.DataFrame(decile_10)"
   ]
  },
  {
   "cell_type": "code",
   "execution_count": 15,
   "metadata": {},
   "outputs": [],
   "source": [
    "decile10=decile10.asfreq('BM',fill_value='bfill')"
   ]
  },
  {
   "cell_type": "code",
   "execution_count": 16,
   "metadata": {},
   "outputs": [
    {
     "data": {
      "text/html": [
       "<div>\n",
       "<style scoped>\n",
       "    .dataframe tbody tr th:only-of-type {\n",
       "        vertical-align: middle;\n",
       "    }\n",
       "\n",
       "    .dataframe tbody tr th {\n",
       "        vertical-align: top;\n",
       "    }\n",
       "\n",
       "    .dataframe thead th {\n",
       "        text-align: right;\n",
       "    }\n",
       "</style>\n",
       "<table border=\"1\" class=\"dataframe\">\n",
       "  <thead>\n",
       "    <tr style=\"text-align: right;\">\n",
       "      <th></th>\n",
       "      <th>CAP10RET</th>\n",
       "    </tr>\n",
       "    <tr>\n",
       "      <th>date</th>\n",
       "      <th></th>\n",
       "    </tr>\n",
       "  </thead>\n",
       "  <tbody>\n",
       "    <tr>\n",
       "      <th>1970-01-30</th>\n",
       "      <td>-0.076874</td>\n",
       "    </tr>\n",
       "    <tr>\n",
       "      <th>1970-02-27</th>\n",
       "      <td>0.059512</td>\n",
       "    </tr>\n",
       "    <tr>\n",
       "      <th>1970-03-31</th>\n",
       "      <td>-0.001327</td>\n",
       "    </tr>\n",
       "    <tr>\n",
       "      <th>1970-04-30</th>\n",
       "      <td>-0.091112</td>\n",
       "    </tr>\n",
       "    <tr>\n",
       "      <th>1970-05-29</th>\n",
       "      <td>-0.053193</td>\n",
       "    </tr>\n",
       "  </tbody>\n",
       "</table>\n",
       "</div>"
      ],
      "text/plain": [
       "            CAP10RET\n",
       "date                \n",
       "1970-01-30 -0.076874\n",
       "1970-02-27  0.059512\n",
       "1970-03-31 -0.001327\n",
       "1970-04-30 -0.091112\n",
       "1970-05-29 -0.053193"
      ]
     },
     "execution_count": 16,
     "metadata": {},
     "output_type": "execute_result"
    }
   ],
   "source": [
    "decile10.head()"
   ]
  },
  {
   "cell_type": "markdown",
   "metadata": {},
   "source": [
    "# 问题(a),检验12阶滞后自相关系数是否在5%的显著性水平下为0"
   ]
  },
  {
   "cell_type": "code",
   "execution_count": 17,
   "metadata": {},
   "outputs": [],
   "source": [
    "# 原假设：自相关系数1-12=0，备择假设：自相关系数1-12中存在不为0的"
   ]
  },
  {
   "cell_type": "code",
   "execution_count": 18,
   "metadata": {},
   "outputs": [],
   "source": [
    "from statsmodels.stats.diagnostic import acorr_ljungbox"
   ]
  },
  {
   "cell_type": "code",
   "execution_count": 19,
   "metadata": {},
   "outputs": [
    {
     "data": {
      "text/plain": [
       "(array([55.73633336, 55.95302062]), array([1.33502495e-07, 2.74728362e-07]))"
      ]
     },
     "execution_count": 19,
     "metadata": {},
     "output_type": "execute_result"
    }
   ],
   "source": [
    "acorr_ljungbox(decile_2, [12,13]) #每个array中的前一个值分别为统计量和p值"
   ]
  },
  {
   "cell_type": "code",
   "execution_count": 20,
   "metadata": {},
   "outputs": [
    {
     "data": {
      "text/plain": [
       "(array([10.68715429, 10.69592975]), array([0.55590269, 0.63627368]))"
      ]
     },
     "execution_count": 20,
     "metadata": {},
     "output_type": "execute_result"
    }
   ],
   "source": [
    "acorr_ljungbox(decile_10, [12,13]) #每个array中的前一个值分别为统计量和p值"
   ]
  },
  {
   "cell_type": "code",
   "execution_count": 21,
   "metadata": {},
   "outputs": [],
   "source": [
    "# 结论：根据LB检验的结果，对于decile_2拒绝原假设，认为自相关系数显著不为0；对于decile_10无法拒绝原假设，自相关系数不能显著区别于0。"
   ]
  },
  {
   "cell_type": "markdown",
   "metadata": {},
   "source": [
    "# 问题(b),为decile_2构建ARMA模型，进行模型检测并写下拟合模型"
   ]
  },
  {
   "cell_type": "code",
   "execution_count": 22,
   "metadata": {},
   "outputs": [],
   "source": [
    "import statsmodels.tsa.stattools as st"
   ]
  },
  {
   "cell_type": "code",
   "execution_count": 23,
   "metadata": {},
   "outputs": [
    {
     "name": "stderr",
     "output_type": "stream",
     "text": [
      "C:\\ProgramData\\Anaconda3\\lib\\site-packages\\statsmodels\\tsa\\base\\tsa_model.py:225: ValueWarning: A date index has been provided, but it has no associated frequency information and so will be ignored when e.g. forecasting.\n",
      "  ' ignored when e.g. forecasting.', ValueWarning)\n",
      "C:\\ProgramData\\Anaconda3\\lib\\site-packages\\statsmodels\\tsa\\base\\tsa_model.py:225: ValueWarning: A date index has been provided, but it has no associated frequency information and so will be ignored when e.g. forecasting.\n",
      "  ' ignored when e.g. forecasting.', ValueWarning)\n",
      "C:\\ProgramData\\Anaconda3\\lib\\site-packages\\statsmodels\\tsa\\base\\tsa_model.py:225: ValueWarning: A date index has been provided, but it has no associated frequency information and so will be ignored when e.g. forecasting.\n",
      "  ' ignored when e.g. forecasting.', ValueWarning)\n",
      "C:\\ProgramData\\Anaconda3\\lib\\site-packages\\statsmodels\\tsa\\base\\tsa_model.py:225: ValueWarning: A date index has been provided, but it has no associated frequency information and so will be ignored when e.g. forecasting.\n",
      "  ' ignored when e.g. forecasting.', ValueWarning)\n",
      "C:\\ProgramData\\Anaconda3\\lib\\site-packages\\statsmodels\\tsa\\base\\tsa_model.py:225: ValueWarning: A date index has been provided, but it has no associated frequency information and so will be ignored when e.g. forecasting.\n",
      "  ' ignored when e.g. forecasting.', ValueWarning)\n",
      "C:\\ProgramData\\Anaconda3\\lib\\site-packages\\statsmodels\\tsa\\base\\tsa_model.py:225: ValueWarning: A date index has been provided, but it has no associated frequency information and so will be ignored when e.g. forecasting.\n",
      "  ' ignored when e.g. forecasting.', ValueWarning)\n",
      "C:\\ProgramData\\Anaconda3\\lib\\site-packages\\statsmodels\\tsa\\base\\tsa_model.py:225: ValueWarning: A date index has been provided, but it has no associated frequency information and so will be ignored when e.g. forecasting.\n",
      "  ' ignored when e.g. forecasting.', ValueWarning)\n",
      "C:\\ProgramData\\Anaconda3\\lib\\site-packages\\statsmodels\\tsa\\base\\tsa_model.py:225: ValueWarning: A date index has been provided, but it has no associated frequency information and so will be ignored when e.g. forecasting.\n",
      "  ' ignored when e.g. forecasting.', ValueWarning)\n",
      "C:\\ProgramData\\Anaconda3\\lib\\site-packages\\statsmodels\\tsa\\base\\tsa_model.py:225: ValueWarning: A date index has been provided, but it has no associated frequency information and so will be ignored when e.g. forecasting.\n",
      "  ' ignored when e.g. forecasting.', ValueWarning)\n",
      "C:\\ProgramData\\Anaconda3\\lib\\site-packages\\statsmodels\\tsa\\base\\tsa_model.py:225: ValueWarning: A date index has been provided, but it has no associated frequency information and so will be ignored when e.g. forecasting.\n",
      "  ' ignored when e.g. forecasting.', ValueWarning)\n",
      "C:\\ProgramData\\Anaconda3\\lib\\site-packages\\statsmodels\\tsa\\base\\tsa_model.py:225: ValueWarning: A date index has been provided, but it has no associated frequency information and so will be ignored when e.g. forecasting.\n",
      "  ' ignored when e.g. forecasting.', ValueWarning)\n",
      "C:\\ProgramData\\Anaconda3\\lib\\site-packages\\statsmodels\\tsa\\base\\tsa_model.py:225: ValueWarning: A date index has been provided, but it has no associated frequency information and so will be ignored when e.g. forecasting.\n",
      "  ' ignored when e.g. forecasting.', ValueWarning)\n",
      "C:\\ProgramData\\Anaconda3\\lib\\site-packages\\statsmodels\\tsa\\base\\tsa_model.py:225: ValueWarning: A date index has been provided, but it has no associated frequency information and so will be ignored when e.g. forecasting.\n",
      "  ' ignored when e.g. forecasting.', ValueWarning)\n",
      "C:\\ProgramData\\Anaconda3\\lib\\site-packages\\statsmodels\\tsa\\base\\tsa_model.py:225: ValueWarning: A date index has been provided, but it has no associated frequency information and so will be ignored when e.g. forecasting.\n",
      "  ' ignored when e.g. forecasting.', ValueWarning)\n",
      "C:\\ProgramData\\Anaconda3\\lib\\site-packages\\statsmodels\\tsa\\base\\tsa_model.py:225: ValueWarning: A date index has been provided, but it has no associated frequency information and so will be ignored when e.g. forecasting.\n",
      "  ' ignored when e.g. forecasting.', ValueWarning)\n",
      "C:\\ProgramData\\Anaconda3\\lib\\site-packages\\statsmodels\\tsa\\base\\tsa_model.py:225: ValueWarning: A date index has been provided, but it has no associated frequency information and so will be ignored when e.g. forecasting.\n",
      "  ' ignored when e.g. forecasting.', ValueWarning)\n",
      "C:\\ProgramData\\Anaconda3\\lib\\site-packages\\statsmodels\\tsa\\tsatools.py:607: RuntimeWarning: invalid value encountered in true_divide\n",
      "  (1+np.exp(-params))).copy()\n",
      "C:\\ProgramData\\Anaconda3\\lib\\site-packages\\statsmodels\\tsa\\tsatools.py:609: RuntimeWarning: invalid value encountered in true_divide\n",
      "  (1+np.exp(-params))).copy()\n"
     ]
    },
    {
     "data": {
      "text/plain": [
       "{'aic':              0            1            2\n",
       " 0 -1221.305074 -1240.933427 -1238.966820\n",
       " 1 -1239.108125 -1238.955447 -1238.873764\n",
       " 2 -1239.785366 -1239.777849 -1237.794268\n",
       " 3 -1238.603777 -1237.793045 -1242.451680\n",
       " 4 -1236.810144 -1235.817922          NaN, 'aic_min_order': (3, 2)}"
      ]
     },
     "execution_count": 23,
     "metadata": {},
     "output_type": "execute_result"
    }
   ],
   "source": [
    "st.arma_order_select_ic(decile_2, max_ar=4, max_ma=2, ic='aic')"
   ]
  },
  {
   "cell_type": "code",
   "execution_count": 24,
   "metadata": {},
   "outputs": [],
   "source": [
    "# 使用ARMA（3，2）模型进行拟合"
   ]
  },
  {
   "cell_type": "code",
   "execution_count": 25,
   "metadata": {},
   "outputs": [],
   "source": [
    "from statsmodels.tsa.arima_model import ARIMA"
   ]
  },
  {
   "cell_type": "code",
   "execution_count": 26,
   "metadata": {},
   "outputs": [
    {
     "name": "stderr",
     "output_type": "stream",
     "text": [
      "C:\\ProgramData\\Anaconda3\\lib\\site-packages\\statsmodels\\tsa\\base\\tsa_model.py:225: ValueWarning: A date index has been provided, but it has no associated frequency information and so will be ignored when e.g. forecasting.\n",
      "  ' ignored when e.g. forecasting.', ValueWarning)\n"
     ]
    }
   ],
   "source": [
    "model_decile2 = ARIMA(decile_2,order=(3,0,2)).fit(dsp=-1)"
   ]
  },
  {
   "cell_type": "code",
   "execution_count": 27,
   "metadata": {},
   "outputs": [
    {
     "data": {
      "text/html": [
       "<table class=\"simpletable\">\n",
       "<caption>ARMA Model Results</caption>\n",
       "<tr>\n",
       "  <th>Dep. Variable:</th>      <td>CAP2RET</td>     <th>  No. Observations:  </th>    <td>468</td>   \n",
       "</tr>\n",
       "<tr>\n",
       "  <th>Model:</th>            <td>ARMA(3, 2)</td>    <th>  Log Likelihood     </th>  <td>628.226</td> \n",
       "</tr>\n",
       "<tr>\n",
       "  <th>Method:</th>             <td>css-mle</td>     <th>  S.D. of innovations</th>   <td>0.063</td>  \n",
       "</tr>\n",
       "<tr>\n",
       "  <th>Date:</th>          <td>Wed, 01 Apr 2020</td> <th>  AIC                </th> <td>-1242.452</td>\n",
       "</tr>\n",
       "<tr>\n",
       "  <th>Time:</th>              <td>15:13:38</td>     <th>  BIC                </th> <td>-1213.412</td>\n",
       "</tr>\n",
       "<tr>\n",
       "  <th>Sample:</th>                <td>0</td>        <th>  HQIC               </th> <td>-1231.025</td>\n",
       "</tr>\n",
       "<tr>\n",
       "  <th></th>                       <td> </td>        <th>                     </th>     <td> </td>    \n",
       "</tr>\n",
       "</table>\n",
       "<table class=\"simpletable\">\n",
       "<tr>\n",
       "        <td></td>           <th>coef</th>     <th>std err</th>      <th>z</th>      <th>P>|z|</th>  <th>[0.025</th>    <th>0.975]</th>  \n",
       "</tr>\n",
       "<tr>\n",
       "  <th>const</th>         <td>    0.0106</td> <td>    0.003</td> <td>    3.271</td> <td> 0.001</td> <td>    0.004</td> <td>    0.017</td>\n",
       "</tr>\n",
       "<tr>\n",
       "  <th>ar.L1.CAP2RET</th> <td>    1.9089</td> <td>    0.059</td> <td>   32.097</td> <td> 0.000</td> <td>    1.792</td> <td>    2.025</td>\n",
       "</tr>\n",
       "<tr>\n",
       "  <th>ar.L2.CAP2RET</th> <td>   -1.2740</td> <td>    0.092</td> <td>  -13.801</td> <td> 0.000</td> <td>   -1.455</td> <td>   -1.093</td>\n",
       "</tr>\n",
       "<tr>\n",
       "  <th>ar.L3.CAP2RET</th> <td>    0.1706</td> <td>    0.051</td> <td>    3.377</td> <td> 0.001</td> <td>    0.072</td> <td>    0.270</td>\n",
       "</tr>\n",
       "<tr>\n",
       "  <th>ma.L1.CAP2RET</th> <td>   -1.7263</td> <td>    0.037</td> <td>  -46.362</td> <td> 0.000</td> <td>   -1.799</td> <td>   -1.653</td>\n",
       "</tr>\n",
       "<tr>\n",
       "  <th>ma.L2.CAP2RET</th> <td>    0.9422</td> <td>    0.035</td> <td>   26.594</td> <td> 0.000</td> <td>    0.873</td> <td>    1.012</td>\n",
       "</tr>\n",
       "</table>\n",
       "<table class=\"simpletable\">\n",
       "<caption>Roots</caption>\n",
       "<tr>\n",
       "    <td></td>   <th>            Real</th>  <th>         Imaginary</th> <th>         Modulus</th>  <th>        Frequency</th>\n",
       "</tr>\n",
       "<tr>\n",
       "  <th>AR.1</th> <td>           0.8942</td> <td>          -0.4822j</td> <td>           1.0159</td> <td>          -0.0787</td>\n",
       "</tr>\n",
       "<tr>\n",
       "  <th>AR.2</th> <td>           0.8942</td> <td>          +0.4822j</td> <td>           1.0159</td> <td>           0.0787</td>\n",
       "</tr>\n",
       "<tr>\n",
       "  <th>AR.3</th> <td>           5.6800</td> <td>          -0.0000j</td> <td>           5.6800</td> <td>          -0.0000</td>\n",
       "</tr>\n",
       "<tr>\n",
       "  <th>MA.1</th> <td>           0.9161</td> <td>          -0.4713j</td> <td>           1.0302</td> <td>          -0.0756</td>\n",
       "</tr>\n",
       "<tr>\n",
       "  <th>MA.2</th> <td>           0.9161</td> <td>          +0.4713j</td> <td>           1.0302</td> <td>           0.0756</td>\n",
       "</tr>\n",
       "</table>"
      ],
      "text/plain": [
       "<class 'statsmodels.iolib.summary.Summary'>\n",
       "\"\"\"\n",
       "                              ARMA Model Results                              \n",
       "==============================================================================\n",
       "Dep. Variable:                CAP2RET   No. Observations:                  468\n",
       "Model:                     ARMA(3, 2)   Log Likelihood                 628.226\n",
       "Method:                       css-mle   S.D. of innovations              0.063\n",
       "Date:                Wed, 01 Apr 2020   AIC                          -1242.452\n",
       "Time:                        15:13:38   BIC                          -1213.412\n",
       "Sample:                             0   HQIC                         -1231.025\n",
       "                                                                              \n",
       "=================================================================================\n",
       "                    coef    std err          z      P>|z|      [0.025      0.975]\n",
       "---------------------------------------------------------------------------------\n",
       "const             0.0106      0.003      3.271      0.001       0.004       0.017\n",
       "ar.L1.CAP2RET     1.9089      0.059     32.097      0.000       1.792       2.025\n",
       "ar.L2.CAP2RET    -1.2740      0.092    -13.801      0.000      -1.455      -1.093\n",
       "ar.L3.CAP2RET     0.1706      0.051      3.377      0.001       0.072       0.270\n",
       "ma.L1.CAP2RET    -1.7263      0.037    -46.362      0.000      -1.799      -1.653\n",
       "ma.L2.CAP2RET     0.9422      0.035     26.594      0.000       0.873       1.012\n",
       "                                    Roots                                    \n",
       "=============================================================================\n",
       "                  Real          Imaginary           Modulus         Frequency\n",
       "-----------------------------------------------------------------------------\n",
       "AR.1            0.8942           -0.4822j            1.0159           -0.0787\n",
       "AR.2            0.8942           +0.4822j            1.0159            0.0787\n",
       "AR.3            5.6800           -0.0000j            5.6800           -0.0000\n",
       "MA.1            0.9161           -0.4713j            1.0302           -0.0756\n",
       "MA.2            0.9161           +0.4713j            1.0302            0.0756\n",
       "-----------------------------------------------------------------------------\n",
       "\"\"\""
      ]
     },
     "execution_count": 27,
     "metadata": {},
     "output_type": "execute_result"
    }
   ],
   "source": [
    "model_decile2.summary() #拟合结果如下"
   ]
  },
  {
   "cell_type": "code",
   "execution_count": 28,
   "metadata": {},
   "outputs": [],
   "source": [
    "resid2 = model_decile2.resid"
   ]
  },
  {
   "cell_type": "code",
   "execution_count": 29,
   "metadata": {},
   "outputs": [
    {
     "data": {
      "text/plain": [
       "date\n",
       "1970-01-30   -0.014938\n",
       "1970-02-27    0.012663\n",
       "1970-03-31   -0.040872\n",
       "1970-04-30   -0.196029\n",
       "1970-05-29   -0.054336\n",
       "dtype: float64"
      ]
     },
     "execution_count": 29,
     "metadata": {},
     "output_type": "execute_result"
    }
   ],
   "source": [
    "resid2.head()"
   ]
  },
  {
   "cell_type": "code",
   "execution_count": 30,
   "metadata": {},
   "outputs": [
    {
     "data": {
      "text/plain": [
       "<matplotlib.axes._subplots.AxesSubplot at 0x28f215cfda0>"
      ]
     },
     "execution_count": 30,
     "metadata": {},
     "output_type": "execute_result"
    },
    {
     "data": {
      "image/png": "[encoded data removed]",
      "text/plain": [
       "<Figure size 432x288 with 1 Axes>"
      ]
     },
     "metadata": {},
     "output_type": "display_data"
    }
   ],
   "source": [
    "resid2.plot()"
   ]
  },
  {
   "cell_type": "code",
   "execution_count": 31,
   "metadata": {},
   "outputs": [],
   "source": [
    "from statsmodels.graphics.tsaplots import plot_acf"
   ]
  },
  {
   "cell_type": "code",
   "execution_count": 32,
   "metadata": {},
   "outputs": [
    {
     "data": {
      "image/png": "[encoded data removed]",
      "text/plain": [
       "<Figure size 432x288 with 1 Axes>"
      ]
     },
     "execution_count": 32,
     "metadata": {},
     "output_type": "execute_result"
    },
    {
     "data": {
      "image/png": "[encoded data removed]",
      "text/plain": [
       "<Figure size 432x288 with 1 Axes>"
      ]
     },
     "metadata": {},
     "output_type": "display_data"
    }
   ],
   "source": [
    "plot_acf(resid2)"
   ]
  },
  {
   "cell_type": "code",
   "execution_count": 33,
   "metadata": {},
   "outputs": [
    {
     "ename": "SyntaxError",
     "evalue": "invalid syntax (<ipython-input-33-20506a546d2f>, line 1)",
     "output_type": "error",
     "traceback": [
      "\u001b[1;36m  File \u001b[1;32m\"<ipython-input-33-20506a546d2f>\"\u001b[1;36m, line \u001b[1;32m1\u001b[0m\n\u001b[1;33m    acorr_ljungbox(resid2,model_decile2.)\u001b[0m\n\u001b[1;37m                                        ^\u001b[0m\n\u001b[1;31mSyntaxError\u001b[0m\u001b[1;31m:\u001b[0m invalid syntax\n"
     ]
    }
   ],
   "source": [
    "acorr_ljungbox(resid2,model_decile2.)"
   ]
  },
  {
   "cell_type": "code",
   "execution_count": 34,
   "metadata": {},
   "outputs": [],
   "source": [
    "# 以上对模型进行检测，认为模型应当是充分的"
   ]
  },
  {
   "cell_type": "markdown",
   "metadata": {},
   "source": [
    "# 使用ARMA（3，2）模型来进行1-12步预测，并求出相应的标准差"
   ]
  },
  {
   "cell_type": "code",
   "execution_count": 35,
   "metadata": {},
   "outputs": [
    {
     "data": {
      "text/plain": [
       "(array([ 0.0211236 ,  0.03086975,  0.0302881 ,  0.0241532 ,  0.01484599,\n",
       "         0.00479642, -0.00357595, -0.0083421 , -0.0084878 , -0.00412194,\n",
       "         0.0035846 ,  0.0127084 ]),\n",
       " array([0.06317127, 0.06421599, 0.06422468, 0.0642529 , 0.06432349,\n",
       "        0.06440033, 0.06444844, 0.06446076, 0.06446117, 0.06448153,\n",
       "        0.06453331, 0.06459883]),\n",
       " array([[-0.10268982,  0.14493702],\n",
       "        [-0.09499128,  0.15673077],\n",
       "        [-0.09558996,  0.15616615],\n",
       "        [-0.10178017,  0.15008656],\n",
       "        [-0.11122573,  0.14091772],\n",
       "        [-0.1214259 ,  0.13101874],\n",
       "        [-0.12989257,  0.12274067],\n",
       "        [-0.13468286,  0.11799866],\n",
       "        [-0.13482937,  0.11785377],\n",
       "        [-0.13050342,  0.12225954],\n",
       "        [-0.12289837,  0.13006757],\n",
       "        [-0.11390298,  0.13931979]]))"
      ]
     },
     "execution_count": 35,
     "metadata": {},
     "output_type": "execute_result"
    }
   ],
   "source": [
    "model_decile2.forecast(12) #预测结果中的三个array，前两个提供的分别就是需要的预测结果和相应的标准差"
   ]
  }
 ],
 "metadata": {
  "kernelspec": {
   "display_name": "Python 3",
   "language": "python",
   "name": "python3"
  },
  "language_info": {
   "codemirror_mode": {
    "name": "ipython",
    "version": 3
   },
   "file_extension": ".py",
   "mimetype": "text/x-python",
   "name": "python",
   "nbconvert_exporter": "python",
   "pygments_lexer": "ipython3",
   "version": "3.6.5"
  }
 },
 "nbformat": 4,
 "nbformat_minor": 2
}
